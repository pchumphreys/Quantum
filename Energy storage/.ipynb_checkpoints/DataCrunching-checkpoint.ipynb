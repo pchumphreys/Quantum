{
 "cells": [
  {
   "cell_type": "code",
   "execution_count": 1,
   "metadata": {},
   "outputs": [],
   "source": [
    "import pandas as pd\n",
    "import ipywidgets as widgets\n",
    "\n",
    "import matplotlib as mpl\n",
    "%matplotlib notebook\n",
    "plt.ioff()\n",
    "import matplotlib.pyplot as plt\n",
    "import numpy as np\n",
    "import pandas as pd\n",
    "\n",
    "from matplotlib.patches import Polygon\n",
    "from matplotlib.collections import PatchCollection\n",
    "from mpl_toolkits.basemap import Basemap\n",
    "\n",
    "from geonamescache import GeonamesCache\n",
    "import matplotlib.pyplot as plt\n",
    "from matplotlib.colors import Normalize\n"
   ]
  },
  {
   "cell_type": "code",
   "execution_count": 2,
   "metadata": {},
   "outputs": [],
   "source": [
    "import os\n",
    "os.chdir('/Users/phumphreys/Repositories/personal_calcs/Energy storage')\n",
    "datafile = 'IEA_HeadlineEnergyData_2017.xlsx'\n",
    "xl = pd.ExcelFile(datafile)"
   ]
  },
  {
   "cell_type": "code",
   "execution_count": 3,
   "metadata": {},
   "outputs": [],
   "source": [
    "gc = GeonamesCache()\n",
    "countries =  gc.get_dataset_by_key(gc.get_countries(),'iso3')\n",
    "country_iso3_list = countries.keys()\n",
    "\n",
    "middle_eastern_countries = ['Bahrain', 'Iran', 'Iraq', 'Jordan', 'Kuwait', 'Lebanon', 'Oman', 'Qatar', 'Saudi Arabia', 'Syria', 'United Arab Emirates', 'Yemen']\n",
    "continent_code_to_IEA = {u'AF': 'Africa', u'NA': 'Non-OECD Americas', u'OC':'Non-OECD Asia (including China)', u'AS':'Non-OECD Asia (including China)', u'EU':'Non-OECD Europe and Eurasia', u'SA':'Non-OECD Americas'}\n",
    "\n",
    "from incf.countryutils import transformations\n",
    "\n",
    "def get_IEA_data_for_countries(database,country_code):\n",
    "    failed = False\n",
    "    try:\n",
    "        country_name = transformations.cc_to_cn(country_code)\n",
    "    \n",
    "        continent_code = transformations.cca_to_ctca2(country_code)\n",
    "\n",
    "        if country_name in database.index:\n",
    "            value = database.ix[country_name]['color']\n",
    "        elif country_name == 'China':\n",
    "            value = database.ix[\"People's Republic of China\"]['color']\n",
    "        elif country_name == 'South Korea':\n",
    "            value = database.ix[\"Korea\"]['color']\n",
    "        elif country_name == 'Slovakia':\n",
    "            value = database.ix[\"Slovak Republic\"]['color']\n",
    "        elif country_name in middle_eastern_countries:\n",
    "            value = database.ix['Middle East']['color']\n",
    "        elif continent_code in continent_code_to_IEA:\n",
    "            value = database.ix[continent_code_to_IEA[continent_code]]['color']\n",
    "        else:\n",
    "\n",
    "            value = '#dddddd'\n",
    "    except:\n",
    "        failed = True\n",
    "        value = '#dddddd'\n",
    "    return value, failed\n",
    "\n",
    "\n",
    "def norm_cmap(values, cmap, vmin=None, vmax=None):\n",
    "    \"\"\"\n",
    "    Normalize and set colormap\n",
    "    \n",
    "    Parameters\n",
    "    ----------\n",
    "    values : Series or array to be normalized\n",
    "    cmap : matplotlib Colormap\n",
    "    normalize : matplotlib.colors.Normalize\n",
    "    cm : matplotlib.cm\n",
    "    vmin : Minimum value of colormap. If None, uses min(values).\n",
    "    vmax : Maximum value of colormap. If None, uses max(values).\n",
    "    \n",
    "    Returns\n",
    "    -------\n",
    "    n_cmap : mapping of normalized values to colormap (cmap)\n",
    "    \n",
    "    \"\"\"\n",
    "    mn = vmin or min(values)\n",
    "    mx = vmax or max(values)\n",
    "    norm = Normalize(vmin=mn, vmax=mx)\n",
    "    n_cmap = plt.cm.ScalarMappable(norm=norm, cmap=cmap)\n",
    "    return n_cmap\n"
   ]
  },
  {
   "cell_type": "code",
   "execution_count": 60,
   "metadata": {},
   "outputs": [],
   "source": [
    "df1 = xl.parse('TimeSeries_1971-2016',skiprows=1)\n",
    "\n",
    "product_selection = widgets.Dropdown(\n",
    "    options=df1.Product.unique().tolist(),\n",
    "    value='Total',\n",
    "    description='Product:',\n",
    "    disabled=False,\n",
    ")\n",
    "\n",
    "flow_selection = widgets.Dropdown(\n",
    "    options=df1[df1.Product.isin([product_selection.value])].Flow.unique().tolist(),\n",
    "    value='Electricity output (GWh)',\n",
    "    description='Flow:',\n",
    "    disabled=False,\n",
    ")\n",
    "\n",
    "year_selection = widgets.Dropdown(\n",
    "    options=range(1971,2016),\n",
    "    value=2015,\n",
    "    description='Year:',\n",
    "    disabled=False,\n",
    ")"
   ]
  },
  {
   "cell_type": "code",
   "execution_count": 85,
   "metadata": {},
   "outputs": [],
   "source": [
    "class display_data():\n",
    "    def crunch_data(self):\n",
    "        self.year = year_selection.value\n",
    "        self.product_var = product_selection.value\n",
    "        self.flow_var = flow_selection.value\n",
    "        self.title = self.product_var + ' ' + self.flow_var + ' {}'.format(self.year)\n",
    "        self.data = df1[np.logical_and(df1.Product.isin([self.product_var]),df1.Flow.isin([self.flow_var]))].filter(items=['Country',self.year])\n",
    "        self.data.set_index('Country', inplace=True)\n",
    "\n",
    "    def plot_chloropleth(self,reset = False):\n",
    "        \n",
    "        self.crunch_data()\n",
    "        \n",
    "        # Following http://ramiro.org/notebook/basemap-choropleth/\n",
    "\n",
    "        cm = plt.get_cmap('Blues')\n",
    "        cmap = norm_cmap(self.data[self.year].values.tolist(), cmap=cm)\n",
    "        self.data = self.data.assign(color=[cmap.to_rgba(value) for value in self.data[self.year].values])\n",
    "\n",
    "        country_colors = {}\n",
    "        for iso3 in country_iso3_list:\n",
    "            country_colors[iso3],failed =  get_IEA_data_for_countries(self.data,iso3)\n",
    "\n",
    "        try: \n",
    "            self.mapfig\n",
    "        except AttributeError:\n",
    "            print 'Recalculating'\n",
    "            reset = True\n",
    "\n",
    "        if reset:\n",
    "\n",
    "            self.mapfig = plt.figure(figsize=(8, 5));\n",
    "\n",
    "            self.mapax = self.mapfig.add_subplot(111, frame_on=False);\n",
    "            self.ax_legend = self.mapfig.add_axes([0.27, 0.1, 0.5, 0.03]);\n",
    "            self.cols = []\n",
    "\n",
    "            self.m = Basemap(lon_0=0, projection='robin',ax=self.mapax)\n",
    "            self.m.readshapefile(\"ne_10m_admin_0_countries_lakes\", 'units', color='#444444', linewidth=.2)\n",
    "\n",
    "            self.country_patches = {}\n",
    "\n",
    "            for info, shape in zip(self.m.units_info, self.m.units):\n",
    "                iso3 = info['ADM0_A3']\n",
    "                if iso3 in self.country_patches:\n",
    "                    self.country_patches[iso3].append(Polygon(np.array(shape)))\n",
    "                else: \n",
    "                    self.country_patches[iso3] =[Polygon(np.array(shape))]\n",
    "\n",
    "        self.mapfig.suptitle(self.title, fontsize=15, y=.95)\n",
    "\n",
    "        for col in self.cols:\n",
    "            try:\n",
    "                col.remove()\n",
    "            except:\n",
    "                pass\n",
    "        for iso3, patches in self.country_patches.iteritems():\n",
    "            pc = PatchCollection(patches)\n",
    "            if iso3 in country_colors:\n",
    "                pc.set_facecolor(country_colors[iso3])\n",
    "            else:\n",
    "                 pc.set_facecolor('#dddddd')\n",
    "            self.cols.append(self.mapax.add_collection(pc))\n",
    "\n",
    "        # Draw color legend.\n",
    "        cmap.set_array([]) # can be an empty list\n",
    "        self.cb = self.mapfig.colorbar(cmap, ax=self.mapax,cax=self.ax_legend, orientation='horizontal');\n",
    "        self.cb.ax.tick_params(labelsize=10) \n",
    "        \n",
    "        display(self.mapfig)\n",
    "\n",
    "data_obj = display_data()"
   ]
  },
  {
   "cell_type": "code",
   "execution_count": 86,
   "metadata": {},
   "outputs": [
    {
     "data": {
      "text/markdown": [
       "**Products**"
      ],
      "text/plain": [
       "<IPython.core.display.Markdown object>"
      ]
     },
     "metadata": {},
     "output_type": "display_data"
    },
    {
     "name": "stdout",
     "output_type": "stream",
     "text": [
      "Coal, peat and oil shale\n",
      "Crude,NGL and feedstocks\n",
      "Oil products\n",
      "Natural gas\n",
      "Nuclear\n",
      "Renewables and waste\n",
      "Electricity\n",
      "Heat\n",
      "Total\n",
      "Fossil fuels\n",
      "Renewable sources\n"
     ]
    },
    {
     "data": {
      "text/markdown": [
       "**Flows**"
      ],
      "text/plain": [
       "<IPython.core.display.Markdown object>"
      ]
     },
     "metadata": {},
     "output_type": "display_data"
    },
    {
     "name": "stdout",
     "output_type": "stream",
     "text": [
      "Production (ktoe)\n",
      "Imports (ktoe)\n",
      "Exports (ktoe)\n",
      "Total primary energy supply (ktoe)\n",
      "Electricity plants (ktoe)\n",
      "CHP plants (ktoe)\n",
      "Heat plants (ktoe)\n",
      "Oil refineries, transformation (ktoe)\n",
      "Total final consumption (ktoe)\n",
      "Industry (ktoe)\n",
      "Transport (ktoe)\n",
      "Other (ktoe)\n",
      "of which: Residential (ktoe)\n",
      "of which: Commerce and public services (ktoe)\n",
      "Electricity output (GWh)\n",
      "Total CO2 emissions - Fuel Combustion (Mt of CO2)\n"
     ]
    }
   ],
   "source": [
    "from IPython.display import Markdown, display\n",
    "def printmd(string):\n",
    "    display(Markdown(string))\n",
    "    \n",
    "printmd(\"**Products**\")\n",
    "for name in df1.Product.unique(): print name \n",
    "printmd(\"**Flows**\")\n",
    "for name in df1.Flow.unique(): print name "
   ]
  },
  {
   "cell_type": "code",
   "execution_count": 87,
   "metadata": {},
   "outputs": [
    {
     "data": {
      "application/vnd.jupyter.widget-view+json": {
       "model_id": "692acbd20b594668b32a81b7714b75d3",
       "version_major": 2,
       "version_minor": 0
      },
      "text/html": [
       "<p>Failed to display Jupyter Widget of type <code>Dropdown</code>.</p>\n",
       "<p>\n",
       "  If you're reading this message in the Jupyter Notebook or JupyterLab Notebook, it may mean\n",
       "  that the widgets JavaScript is still loading. If this message persists, it\n",
       "  likely means that the widgets JavaScript library is either not installed or\n",
       "  not enabled. See the <a href=\"https://ipywidgets.readthedocs.io/en/stable/user_install.html\">Jupyter\n",
       "  Widgets Documentation</a> for setup instructions.\n",
       "</p>\n",
       "<p>\n",
       "  If you're reading this message in another frontend (for example, a static\n",
       "  rendering on GitHub or <a href=\"https://nbviewer.jupyter.org/\">NBViewer</a>),\n",
       "  it may mean that your frontend doesn't currently support widgets.\n",
       "</p>\n"
      ],
      "text/plain": [
       "Dropdown(description=u'Product:', index=8, options=(u'Coal, peat and oil shale', u'Crude,NGL and feedstocks', u'Oil products', u'Natural gas', u'Nuclear', u'Renewables and waste', u'Electricity', u'Heat', u'Total', u'Fossil fuels', u'Renewable sources'), value=u'Total')"
      ]
     },
     "metadata": {},
     "output_type": "display_data"
    },
    {
     "data": {
      "application/vnd.jupyter.widget-view+json": {
       "model_id": "95f65b9fd06246beb31ecf7b6cfc85bf",
       "version_major": 2,
       "version_minor": 0
      },
      "text/html": [
       "<p>Failed to display Jupyter Widget of type <code>Dropdown</code>.</p>\n",
       "<p>\n",
       "  If you're reading this message in the Jupyter Notebook or JupyterLab Notebook, it may mean\n",
       "  that the widgets JavaScript is still loading. If this message persists, it\n",
       "  likely means that the widgets JavaScript library is either not installed or\n",
       "  not enabled. See the <a href=\"https://ipywidgets.readthedocs.io/en/stable/user_install.html\">Jupyter\n",
       "  Widgets Documentation</a> for setup instructions.\n",
       "</p>\n",
       "<p>\n",
       "  If you're reading this message in another frontend (for example, a static\n",
       "  rendering on GitHub or <a href=\"https://nbviewer.jupyter.org/\">NBViewer</a>),\n",
       "  it may mean that your frontend doesn't currently support widgets.\n",
       "</p>\n"
      ],
      "text/plain": [
       "Dropdown(description=u'Flow:', index=5, options=(u'Production (ktoe)', u'Imports (ktoe)', u'Exports (ktoe)', u'Total primary energy supply (ktoe)', u'Electricity plants (ktoe)', u'CHP plants (ktoe)', u'Heat plants (ktoe)', u'Oil refineries, transformation (ktoe)', u'Total final consumption (ktoe)', u'Industry (ktoe)', u'Transport (ktoe)', u'Other (ktoe)', u'of which: Residential (ktoe)', u'of which: Commerce and public services (ktoe)', u'Electricity output (GWh)', u'Total CO2 emissions - Fuel Combustion (Mt of CO2)'), value=u'CHP plants (ktoe)')"
      ]
     },
     "metadata": {},
     "output_type": "display_data"
    },
    {
     "data": {
      "application/vnd.jupyter.widget-view+json": {
       "model_id": "1b53b56e6e9a4c538244745062da139e",
       "version_major": 2,
       "version_minor": 0
      },
      "text/html": [
       "<p>Failed to display Jupyter Widget of type <code>Dropdown</code>.</p>\n",
       "<p>\n",
       "  If you're reading this message in the Jupyter Notebook or JupyterLab Notebook, it may mean\n",
       "  that the widgets JavaScript is still loading. If this message persists, it\n",
       "  likely means that the widgets JavaScript library is either not installed or\n",
       "  not enabled. See the <a href=\"https://ipywidgets.readthedocs.io/en/stable/user_install.html\">Jupyter\n",
       "  Widgets Documentation</a> for setup instructions.\n",
       "</p>\n",
       "<p>\n",
       "  If you're reading this message in another frontend (for example, a static\n",
       "  rendering on GitHub or <a href=\"https://nbviewer.jupyter.org/\">NBViewer</a>),\n",
       "  it may mean that your frontend doesn't currently support widgets.\n",
       "</p>\n"
      ],
      "text/plain": [
       "Dropdown(description=u'Year:', index=44, options=(1971, 1972, 1973, 1974, 1975, 1976, 1977, 1978, 1979, 1980, 1981, 1982, 1983, 1984, 1985, 1986, 1987, 1988, 1989, 1990, 1991, 1992, 1993, 1994, 1995, 1996, 1997, 1998, 1999, 2000, 2001, 2002, 2003, 2004, 2005, 2006, 2007, 2008, 2009, 2010, 2011, 2012, 2013, 2014, 2015), value=2015)"
      ]
     },
     "metadata": {},
     "output_type": "display_data"
    }
   ],
   "source": [
    "display(product_selection,flow_selection,year_selection)"
   ]
  },
  {
   "cell_type": "code",
   "execution_count": 88,
   "metadata": {},
   "outputs": [
    {
     "name": "stdout",
     "output_type": "stream",
     "text": [
      "Recalculating\n"
     ]
    },
    {
     "ename": "NameError",
     "evalue": "global name 'title' is not defined",
     "output_type": "error",
     "traceback": [
      "\u001b[0;31m---------------------------------------------------------------------------\u001b[0m",
      "\u001b[0;31mNameError\u001b[0m                                 Traceback (most recent call last)",
      "\u001b[0;32m<ipython-input-88-ba048f5ddd49>\u001b[0m in \u001b[0;36m<module>\u001b[0;34m()\u001b[0m\n\u001b[0;32m----> 1\u001b[0;31m \u001b[0mdata_obj\u001b[0m\u001b[0;34m.\u001b[0m\u001b[0mplot_chloropleth\u001b[0m\u001b[0;34m(\u001b[0m\u001b[0;34m)\u001b[0m\u001b[0;34m\u001b[0m\u001b[0m\n\u001b[0m",
      "\u001b[0;32m<ipython-input-85-586c7127fc40>\u001b[0m in \u001b[0;36mplot_chloropleth\u001b[0;34m(self, reset)\u001b[0m\n\u001b[1;32m     48\u001b[0m                     \u001b[0mself\u001b[0m\u001b[0;34m.\u001b[0m\u001b[0mcountry_patches\u001b[0m\u001b[0;34m[\u001b[0m\u001b[0miso3\u001b[0m\u001b[0;34m]\u001b[0m \u001b[0;34m=\u001b[0m\u001b[0;34m[\u001b[0m\u001b[0mPolygon\u001b[0m\u001b[0;34m(\u001b[0m\u001b[0mnp\u001b[0m\u001b[0;34m.\u001b[0m\u001b[0marray\u001b[0m\u001b[0;34m(\u001b[0m\u001b[0mshape\u001b[0m\u001b[0;34m)\u001b[0m\u001b[0;34m)\u001b[0m\u001b[0;34m]\u001b[0m\u001b[0;34m\u001b[0m\u001b[0m\n\u001b[1;32m     49\u001b[0m \u001b[0;34m\u001b[0m\u001b[0m\n\u001b[0;32m---> 50\u001b[0;31m         \u001b[0mself\u001b[0m\u001b[0;34m.\u001b[0m\u001b[0mmapfig\u001b[0m\u001b[0;34m.\u001b[0m\u001b[0msuptitle\u001b[0m\u001b[0;34m(\u001b[0m\u001b[0mtitle\u001b[0m\u001b[0;34m,\u001b[0m \u001b[0mfontsize\u001b[0m\u001b[0;34m=\u001b[0m\u001b[0;36m15\u001b[0m\u001b[0;34m,\u001b[0m \u001b[0my\u001b[0m\u001b[0;34m=\u001b[0m\u001b[0;36m.95\u001b[0m\u001b[0;34m)\u001b[0m\u001b[0;34m\u001b[0m\u001b[0m\n\u001b[0m\u001b[1;32m     51\u001b[0m \u001b[0;34m\u001b[0m\u001b[0m\n\u001b[1;32m     52\u001b[0m         \u001b[0;32mfor\u001b[0m \u001b[0mcol\u001b[0m \u001b[0;32min\u001b[0m \u001b[0mself\u001b[0m\u001b[0;34m.\u001b[0m\u001b[0mcols\u001b[0m\u001b[0;34m:\u001b[0m\u001b[0;34m\u001b[0m\u001b[0m\n",
      "\u001b[0;31mNameError\u001b[0m: global name 'title' is not defined"
     ]
    }
   ],
   "source": [
    "data_obj.plot_chloropleth()"
   ]
  },
  {
   "cell_type": "code",
   "execution_count": null,
   "metadata": {},
   "outputs": [],
   "source": [
    "import wbpy\n",
    "\n",
    "api = wbpy.IndicatorAPI()\n",
    "\n",
    "iso_country_codes = [\"GB\", \"FR\", \"JP\"]\n",
    "total_population = \"SP.POP.TOTL\"\n",
    "\n",
    "dataset = api.get_dataset(total_population, iso_country_codes, date=\"2015\")\n",
    "print dataset"
   ]
  }
 ],
 "metadata": {
  "kernelspec": {
   "display_name": "Python 2",
   "language": "python",
   "name": "python2"
  },
  "language_info": {
   "codemirror_mode": {
    "name": "ipython",
    "version": 2
   },
   "file_extension": ".py",
   "mimetype": "text/x-python",
   "name": "python",
   "nbconvert_exporter": "python",
   "pygments_lexer": "ipython2",
   "version": "2.7.13"
  }
 },
 "nbformat": 4,
 "nbformat_minor": 2
}
