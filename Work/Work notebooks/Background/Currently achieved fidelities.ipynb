{
 "cells": [
  {
   "cell_type": "markdown",
   "metadata": {},
   "source": [
    "# Fidelities\n",
    "\n",
    "I want to get a feel for the state of the art, and where things can be achieved\n",
    "\n",
    "## Electron spin initialisation\n",
    "\n",
    "## Electron spin readout\n",
    "\n",
    "From Bell (using fast SSRO)\n",
    "> For this read-out duration, the combined initialization and single-shot read-out fidelity of sampleAis (97.160.2)% (Fig. 2c); sample B achieves (96.360.3)%\n",
    "\n",
    "> Using the observed two-photon interference contrast of 0.9060.06 and the spin-photon correlation data, we estimate that the fidelity to the ideal state y2 of the spin–spin entang- led states generated in our set-up is 0.9260.03\n",
    "\n",
    "> We find a success probability per entanglement generation attempt\n",
    "of about 6.431029, which yields slightly more than one event-ready signal per hour.\n",
    "\n",
    "\n",
    "From error correction\n",
    "\n",
    "> To minimize this dephasing, we implement quantum non-demolition measurements of the ancilla by resonant optical excitation\n",
    "of |0?a and stopping the excitation within 2 µs upon photon detection (outcome |0?a) to minimize spin flips in the optically excited state [20] (Methods). The resulting readout fidelities are F0 = 0.890(4) for |0?a and F1 = 0.988(2) for |1?a (average: F = 0.939(2)). Crucially, the post-measurement fidelity after correctly assigning |0?a is 0.992, demonstrating the desired non-demolition character.\n",
    "\n",
    "> First, the qubits are initialized in |00?, an eigenstate of ZZ, with fidelity 0.910(6). Then a XX stabilizer measurement projects the qubits onto one of two Bell states (Fig. 1d). We\n",
    "interpret the -1 outcome as an error in the desired state and correct it through feedback before performing two-qubit tomography. The deterministically generated entangled state, with fidelity F = 0.824(7) (Fig. 1e), demonstrates the non-destructive\n",
    "\n",
    "> Prior to every experiment the 14N nuclear spin is initialized by measurement with a fidelity of FN = 0.94(3) in mI = −1 [17]. No\n"
   ]
  }
 ],
 "metadata": {
  "kernelspec": {
   "display_name": "Python 3",
   "language": "python",
   "name": "python3"
  },
  "language_info": {
   "codemirror_mode": {
    "name": "ipython",
    "version": 3
   },
   "file_extension": ".py",
   "mimetype": "text/x-python",
   "name": "python",
   "nbconvert_exporter": "python",
   "pygments_lexer": "ipython3",
   "version": "3.5.1"
  }
 },
 "nbformat": 4,
 "nbformat_minor": 0
}
