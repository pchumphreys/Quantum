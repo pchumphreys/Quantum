{
 "cells": [
  {
   "cell_type": "code",
   "execution_count": null,
   "metadata": {
    "collapsed": false
   },
   "outputs": [],
   "source": [
    "import sys\n",
    "sys.path.append(r'/Users/humphreys/Repositories/')\n",
    "execfile(r'/Users/humphreys/Repositories/analysis/scripts/setup_analysis.py')\n",
    "%matplotlib inline\n",
    "from personal_calcs.Work.Modelling.QINC.networkProtocolSimulation import Kwiatfunc_continuous_deadtime as Kwiat_cont_deadtime\n",
    "from personal_calcs.Work.Modelling.QINC.networkProtocolSimulation import Kwiatfunc_continuous_deadtime2_c as Kwiat_cont_deadtime2_c\n",
    "from personal_calcs.Work.Modelling.QINC.networkProtocolSimulation import Kwiatfunc_continuous_deadtime2 as Kwiat_cont_deadtime2\n"
   ]
  },
  {
   "cell_type": "code",
   "execution_count": null,
   "metadata": {
    "collapsed": false,
    "scrolled": false
   },
   "outputs": [],
   "source": [
    "import time\n",
    "reload(Kwiat_cont_deadtime)\n",
    "reload(Kwiat_cont_deadtime2_c)\n",
    "NoMem = 3\n",
    "\n",
    "t = time.time()\n",
    "kwout = Kwiat_cont_deadtime.Kwiat(3,n_iterations=300,pfc=0.3,pout=0.3,pm=0.1,d=10,fid_bound=0.51)\n",
    "print 'time elapsed: ', time.time()-t\n",
    "\n",
    "t = time.time()\n",
    "kwout2 = Kwiat_cont_deadtime2.Kwiat(3,n_iterations=300,pfc=0.3,pout=0.3,pm=0.1,d=10,fid_bound=0.51)\n",
    "print 'time elapsed: ', time.time()-t\n",
    "\n",
    "t = time.time()\n",
    "kwout3 =Kwiat_cont_deadtime2_c.Kwiat(3,n_iterations=300,pfc=0.3,pout=0.3,pm=0.1,d=10,fid_bound=0.51)\n",
    "print 'time elapsed: ', time.time()-t\n",
    "\n",
    "\n",
    "# print kwout[0:2]\n",
    "# print kwout2[0:2]\n",
    "print kwout3[0:2]"
   ]
  },
  {
   "cell_type": "code",
   "execution_count": null,
   "metadata": {
    "collapsed": true
   },
   "outputs": [],
   "source": []
  }
 ],
 "metadata": {
  "kernelspec": {
   "display_name": "Python 2",
   "language": "python",
   "name": "python2"
  },
  "language_info": {
   "codemirror_mode": {
    "name": "ipython",
    "version": 2
   },
   "file_extension": ".py",
   "mimetype": "text/x-python",
   "name": "python",
   "nbconvert_exporter": "python",
   "pygments_lexer": "ipython2",
   "version": "2.7.11"
  }
 },
 "nbformat": 4,
 "nbformat_minor": 0
}
