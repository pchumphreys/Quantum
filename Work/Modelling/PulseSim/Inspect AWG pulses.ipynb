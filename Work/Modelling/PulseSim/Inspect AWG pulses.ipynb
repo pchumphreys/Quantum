{
 "cells": [
  {
   "cell_type": "code",
   "execution_count": 40,
   "metadata": {
    "collapsed": false
   },
   "outputs": [
    {
     "data": {
      "text/plain": [
       "<module 'analysis.lib.sim.pulse_sim.pulse_sim' from '/Users/humphreys/Repositories/analysis/lib/sim/pulse_sim/pulse_sim.py'>"
      ]
     },
     "execution_count": 40,
     "metadata": {},
     "output_type": "execute_result"
    }
   ],
   "source": [
    "import sys\n",
    "sys.path.append(r'/Users/humphreys/Repositories/')\n",
    "execfile(r'/Users/humphreys/Repositories/analysis/scripts/setup_analysis.py')\n",
    "from analysis.lib.sim.pulse_sim import pulse_sim\n",
    "%matplotlib inline\n",
    "\n",
    "reload(pulse_sim)"
   ]
  },
  {
   "cell_type": "code",
   "execution_count": 10,
   "metadata": {
    "collapsed": false
   },
   "outputs": [],
   "source": [
    "basedir = r'/Users/humphreys/Repositories/personal_calcs/Work/Modelling/PulseSim/LT3w'\n",
    "name = 'AWG_seqs_Pippin_SIL3_Purify_ZZ.pickle'\n",
    "\n",
    "combined_seq,combined_list_of_elements = pulse_sim.get_AWG_seq_file(basedir,name)\n",
    "    \n",
    "    \n",
    "grouped_seq = pulse_sim.group_seq_elems(combined_seq,combined_list_of_elements)\n",
    "pulse_sim.print_group_summaries(grouped_seq)"
   ]
  },
  {
   "cell_type": "code",
   "execution_count": 43,
   "metadata": {
    "collapsed": false
   },
   "outputs": [],
   "source": [
    "grouped_seq = pulse_sim.load_grouped_pulses(basedir,name)"
   ]
  },
  {
   "cell_type": "code",
   "execution_count": 44,
   "metadata": {
    "collapsed": false
   },
   "outputs": [
    {
     "data": {
      "image/png": "[encoded data removed]",
      "text/plain": [
       "<matplotlib.figure.Figure at 0x112674a90>"
      ]
     },
     "metadata": {},
     "output_type": "display_data"
    }
   ],
   "source": [
    "pulse_sim.draw_seq_element_pulses(grouped_seq[1][1])"
   ]
  },
  {
   "cell_type": "code",
   "execution_count": null,
   "metadata": {
    "collapsed": true
   },
   "outputs": [],
   "source": []
  }
 ],
 "metadata": {
  "kernelspec": {
   "display_name": "Python 2",
   "language": "python",
   "name": "python2"
  },
  "language_info": {
   "codemirror_mode": {
    "name": "ipython",
    "version": 2
   },
   "file_extension": ".py",
   "mimetype": "text/x-python",
   "name": "python",
   "nbconvert_exporter": "python",
   "pygments_lexer": "ipython2",
   "version": "2.7.12"
  }
 },
 "nbformat": 4,
 "nbformat_minor": 0
}
