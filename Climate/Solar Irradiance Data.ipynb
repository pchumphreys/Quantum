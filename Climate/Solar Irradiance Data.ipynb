{
 "cells": [
  {
   "cell_type": "code",
   "execution_count": null,
   "metadata": {
    "collapsed": false
   },
   "outputs": [],
   "source": [
    "import numpy as np\n",
    "from netCDF4 import Dataset\n",
    "import gzip\n",
    "import tempfile\n",
    "import shutil\n",
    "%matplotlib inline\n",
    "import matplotlib.pyplot as plt\n",
    "from mpl_toolkits.basemap import Basemap"
   ]
  },
  {
   "cell_type": "code",
   "execution_count": null,
   "metadata": {
    "collapsed": false
   },
   "outputs": [],
   "source": [
    "import datetime\n",
    "\n",
    "dates = []\n",
    "for j in xrange(1,13): \n",
    "    d=1\n",
    "    while True:\n",
    "        try:\n",
    "            date=datetime.date(2013,j,d).strftime('%Y%m%d')\n",
    "            dates.append(date)\n",
    "        except:\n",
    "            break\n",
    "        d += 1"
   ]
  },
  {
   "cell_type": "markdown",
   "metadata": {},
   "source": [
    "MAB (Mean Absolute Bias) below 18 W/m²\n",
    "and 85 % of absolute bias values below\n",
    "20 W/m² (+ uncertainty of ground based\n",
    "measurements) for monthly means.\n",
    "Very low bias of 2.5 W/m² for monthly, daily\n",
    "hourly means.\n",
    "Higher bias values occur in the Alpine and\n",
    "other mountainous regions, e. g. due to\n",
    "uncertainties in area to point comparison and\n",
    "snow coverage"
   ]
  },
  {
   "cell_type": "code",
   "execution_count": null,
   "metadata": {
    "collapsed": false
   },
   "outputs": [],
   "source": [
    "latbounds =  [30,58]\n",
    "lonbounds = [-20,37]\n",
    "\n",
    "max_ind = 60\n",
    "for j in xrange(0,max_ind):\n",
    "    if np.mod(j,10) == 0:\n",
    "        print \"Processing file \"+ str(j+1)\n",
    "    dat_file = r'/Users/humphreys/Repositories/personal_calcs/Climate/ORD21164/DNIdm' + dates[j] + '0000002231000101MA.nc.gz'\n",
    "\n",
    "    tmpfile = tempfile.NamedTemporaryFile()\n",
    "    shutil.copyfileobj(gzip.open(dat_file), tmpfile)\n",
    "    nc = Dataset(tmpfile.name, mode='r')\n",
    "\n",
    "    SID = nc.variables['SID'][:].squeeze()\n",
    "    \n",
    "    if j == 0:\n",
    "        \n",
    "        lat = nc.variables['lat'][:]\n",
    "        lon = nc.variables['lon'][:]\n",
    "\n",
    "        latgridbounds = [np.argmin(abs(lat-i)) for i in latbounds]\n",
    "        longridbounds = [np.argmin(abs(lon-i)) for i in lonbounds]\n",
    "        lon = lon[longridbounds[0]:longridbounds[1]]\n",
    "        lat = lat[latgridbounds[0]:latgridbounds[1]]\n",
    "        \n",
    "        lons,lats= np.meshgrid(lon,lat)\n",
    "        SIDarray = np.zeros([max_ind,np.shape(lons)[0],np.shape(lons)[1]])\n",
    "        \n",
    "    SIDarray[j] = SID[latgridbounds[0]:latgridbounds[1],longridbounds[0]:longridbounds[1]]\n",
    "    tmpfile.close()\n"
   ]
  },
  {
   "cell_type": "code",
   "execution_count": null,
   "metadata": {
    "collapsed": false
   },
   "outputs": [],
   "source": [
    "# SIDmean = np.mean(SIDarray,axis=0)\n",
    "runningAvgLength = 31\n",
    "runningAvgFilter = np.ones((runningAvgLength,))/runningAvgLength\n",
    "\n",
    "SIDmean = np.apply_along_axis(lambda m: np.convolve(m, runningAvgFilter, mode='valid'), axis=0, arr=SIDarray)\n",
    "\n",
    "SIDarrayDif = SIDarray[((runningAvgLength-1)/2):-((runningAvgLength-1)/2)] - SIDmean"
   ]
  },
  {
   "cell_type": "code",
   "execution_count": null,
   "metadata": {
    "collapsed": false
   },
   "outputs": [],
   "source": [
    "fig=plt.figure()\n",
    "ax = fig.add_axes([0.05,0.05,0.9,0.85])\n",
    "# projmap = Basemap(projection='ortho',lat_0=45,lon_0=40,resolution='l')\n",
    "projmap = Basemap(llcrnrlon=np.min(lon)-2,llcrnrlat=np.min(lat)-2,urcrnrlon=np.max(lon)+2,urcrnrlat=np.max(lat)+2,projection='mill',fix_aspect = True,resolution='l')\n",
    "projmap.drawcoastlines()\n",
    "projmap.drawcountries()\n",
    "x,y = projmap(lons,lats)\n",
    "temp = projmap.contourf(x,y,SIDarrayDif[-1])\n",
    "cb = projmap.colorbar(temp,\"bottom\", size=\"5%\", pad=\"2%\")\n",
    "plt.title('SID')\n",
    "cb.set_label('SID')\n",
    "\n",
    "fig=plt.figure()\n",
    "ax = fig.add_axes([0.05,0.05,0.9,0.85])\n",
    "# projmap = Basemap(projection='ortho',lat_0=45,lon_0=40,resolution='l')\n",
    "projmap = Basemap(llcrnrlon=np.min(lon)-2,llcrnrlat=np.min(lat)-2,urcrnrlon=np.max(lon)+2,urcrnrlat=np.max(lat)+2,projection='mill',fix_aspect = True,resolution='l')\n",
    "projmap.drawcoastlines()\n",
    "projmap.drawcountries()\n",
    "temp = projmap.contourf(x,y,SIDmean[-1])\n",
    "cb = projmap.colorbar(temp,\"bottom\", size=\"5%\", pad=\"2%\")\n",
    "plt.title('SID')\n",
    "cb.set_label('SID')"
   ]
  },
  {
   "cell_type": "markdown",
   "metadata": {},
   "source": [
    "Interesting detour - lets be correct about this - lat lon gives different distance between points depending on your vertical position (latitude)"
   ]
  },
  {
   "cell_type": "code",
   "execution_count": null,
   "metadata": {
    "collapsed": true
   },
   "outputs": [],
   "source": [
    "def haversine(lons, lats, reflat,reflon):\n",
    "    \"\"\"\n",
    "    Calculate the great circle distance between two points \n",
    "    on the earth (specified in decimal degrees)\n",
    "    \"\"\"\n",
    "    # convert decimal degrees to radians \n",
    "    lons, lats, reflat, reflon = map(lambda x : (np.pi/180)*x, [lons, lats, reflat, reflon])\n",
    "\n",
    "    # haversine formula \n",
    "    dlons = lons - reflon \n",
    "    dlats = lats - reflat \n",
    "    a = np.sin(dlats/2)**2 + np.cos(reflat) * np.cos(lats) * np.sin(dlons/2)**2\n",
    "    c = 2 * np.arcsin(np.sqrt(a)) \n",
    "    r = 6371 # Radius of earth in kilometers. Use 3956 for miles\n",
    "    return c * r\n",
    "\n",
    "def haversine(lons, lats, reflat,reflon):\n",
    "    \"\"\"\n",
    "    Calculate the distance between points on earth\n",
    "    \"\"\"\n",
    "    # convert decimal degrees to radians \n",
    "    lons, lats, reflat, reflon = map(lambda x : (np.pi/180)*x, [lons, lats, reflat, reflon])\n",
    "\n",
    "    # haversine formula \n",
    "    dlons = lons - reflon \n",
    "    dlats = lats - reflat \n",
    "    a = np.sin(dlats/2)**2 + np.cos(reflat) * np.cos(lats) * np.sin(dlons/2)**2\n",
    "    c = 2 * np.arcsin(np.sqrt(a)) \n",
    "    r = 6371 # Radius of earth in kilometers. Use 3956 for miles\n",
    "    return c * r"
   ]
  },
  {
   "cell_type": "code",
   "execution_count": null,
   "metadata": {
    "collapsed": false
   },
   "outputs": [],
   "source": [
    "lonscorrected = haversine(lons,lats,lat[0],lon[0])"
   ]
  },
  {
   "cell_type": "code",
   "execution_count": null,
   "metadata": {
    "collapsed": true
   },
   "outputs": [],
   "source": [
    "scipy.interpolate.interp2d(x, y, z, kind='cubic')"
   ]
  },
  {
   "cell_type": "code",
   "execution_count": null,
   "metadata": {
    "collapsed": false
   },
   "outputs": [],
   "source": [
    "import scipy\n",
    "max_ind = np.shape(SIDarrayDif)[0]\n",
    "for i in range(max_ind):\n",
    "    if np.mod(j,10) == 0:\n",
    "        print \"Processing file \"+ str(j+1)\n",
    "        \n",
    "    SID = SIDarrayDif[i]\n",
    "    fftSID=np.fft.fft2(SID)\n",
    "    cor=np.real(np.fft.ifft2(fftSID*np.conj(fftSID)))\n",
    "    cor=cor/np.max(cor)\n",
    "    if i == 0:\n",
    "        cor_mean = cor\n",
    "    else:\n",
    "        cor_mean += cor\n",
    "\n",
    "cor_mean = cor_mean/max_ind\n",
    "\n",
    "plt.subplot(1,1,1)\n",
    "plt.imshow(np.fft.fftshift(cor_mean))\n",
    "plt.clim([-1,1])\n",
    "plt.colorbar()"
   ]
  },
  {
   "cell_type": "code",
   "execution_count": null,
   "metadata": {
    "collapsed": true
   },
   "outputs": [],
   "source": []
  }
 ],
 "metadata": {
  "kernelspec": {
   "display_name": "Python 2",
   "language": "python",
   "name": "python2"
  },
  "language_info": {
   "codemirror_mode": {
    "name": "ipython",
    "version": 2
   },
   "file_extension": ".py",
   "mimetype": "text/x-python",
   "name": "python",
   "nbconvert_exporter": "python",
   "pygments_lexer": "ipython2",
   "version": "2.7.12"
  }
 },
 "nbformat": 4,
 "nbformat_minor": 0
}
