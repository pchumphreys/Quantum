{
 "cells": [
  {
   "cell_type": "code",
   "execution_count": null,
   "metadata": {
    "collapsed": false
   },
   "outputs": [],
   "source": [
    "import numpy as np\n",
    "from netCDF4 import Dataset\n",
    "import gzip\n",
    "import tempfile\n",
    "import shutil\n",
    "%matplotlib inline\n",
    "import matplotlib.pyplot as plt\n",
    "from mpl_toolkits.basemap import Basemap"
   ]
  },
  {
   "cell_type": "code",
   "execution_count": null,
   "metadata": {
    "collapsed": true
   },
   "outputs": [],
   "source": [
    "dat_file = r'/Users/humphreys/Repositories/personal_calcs/Climate/ORD21164/DNIdm201301160000002231000101MA.nc.gz'"
   ]
  },
  {
   "cell_type": "code",
   "execution_count": null,
   "metadata": {
    "collapsed": false
   },
   "outputs": [],
   "source": [
    "tmpfile = tempfile.NamedTemporaryFile()\n",
    "shutil.copyfileobj(gzip.open(dat_file), tmpfile)\n",
    "nc = Dataset(tmpfile.name, mode='r')"
   ]
  },
  {
   "cell_type": "code",
   "execution_count": null,
   "metadata": {
    "collapsed": false
   },
   "outputs": [],
   "source": [
    "nc"
   ]
  },
  {
   "cell_type": "code",
   "execution_count": null,
   "metadata": {
    "collapsed": false
   },
   "outputs": [],
   "source": [
    "lat = nc.variables['lat'][:]\n",
    "lon = nc.variables['lon'][:]\n",
    "time = nc.variables['time'][:]\n",
    "SIC = nc.variables['SID'][:].squeeze()"
   ]
  },
  {
   "cell_type": "code",
   "execution_count": null,
   "metadata": {
    "collapsed": false
   },
   "outputs": [],
   "source": [
    "fig=plt.figure(figsize=(8,10))\n",
    "ax = fig.add_axes([0.05,0.05,0.9,0.85])\n",
    "# map = Basemap(projection='ortho',lat_0=45,lon_0=40,resolution='l')\n",
    "map = Basemap(llcrnrlon=np.min(lon)-2,llcrnrlat=np.min(lat)-2,urcrnrlon=np.max(lon)+2,urcrnrlat=np.max(lat)+2,projection='mill',fix_aspect = False)\n",
    "map.drawcoastlines()\n",
    "map.drawcountries()\n",
    "lons,lats= np.meshgrid(lon,lat) # for this dataset, longitude is 0 through 360, so you need to subtract 180 to properly display on map\n",
    "x,y = map(lons,lats)\n",
    "\n",
    "temp = map.contourf(x,y,SIC)\n",
    "cb = map.colorbar(temp,\"bottom\", size=\"5%\", pad=\"2%\")\n",
    "plt.title('SIC')\n",
    "cb.set_label('SIC')"
   ]
  },
  {
   "cell_type": "code",
   "execution_count": null,
   "metadata": {
    "collapsed": false
   },
   "outputs": [],
   "source": [
    "import scipy\n",
    "fftSIC=np.fft.fft2(SIC)\n",
    "cor=np.real(np.fft.ifft2(fftSIC*np.conj(fftSIC)))\n",
    "cor=cor/np.max(cor)"
   ]
  },
  {
   "cell_type": "code",
   "execution_count": null,
   "metadata": {
    "collapsed": false
   },
   "outputs": [],
   "source": [
    "plt.subplot(1,1,1)\n",
    "plt.imshow(np.fft.fftshift(cor))\n",
    "plt.clim(0,1)\n",
    "plt.colorbar()"
   ]
  },
  {
   "cell_type": "code",
   "execution_count": null,
   "metadata": {
    "collapsed": true
   },
   "outputs": [],
   "source": []
  }
 ],
 "metadata": {
  "kernelspec": {
   "display_name": "Python 2",
   "language": "python",
   "name": "python2"
  },
  "language_info": {
   "codemirror_mode": {
    "name": "ipython",
    "version": 2
   },
   "file_extension": ".py",
   "mimetype": "text/x-python",
   "name": "python",
   "nbconvert_exporter": "python",
   "pygments_lexer": "ipython2",
   "version": "2.7.12"
  }
 },
 "nbformat": 4,
 "nbformat_minor": 0
}
