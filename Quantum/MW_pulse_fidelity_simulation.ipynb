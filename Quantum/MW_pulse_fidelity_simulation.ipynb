{
 "cells": [
  {
   "cell_type": "code",
   "execution_count": null,
   "metadata": {
    "collapsed": true
   },
   "outputs": [],
   "source": [
    "# Uncomment the next three lines and adjust the path so that it matches the place were the analysis folder is stored.\n",
    "# This is nessesary if you want to run it on your own computer.\n",
    "# import sys\n",
    "# sys.path.append(\"/Users/hbeukers/Documents\")\n",
    "# sys.path.append(\"/Users/hbeukers/Documents/analysis/lib/sim\")\n",
    "\n",
    "# execfile (\"D:/measuring/analysis/scripts/setup_analysis.py\")\n",
    "import numpy as np \n",
    "import matplotlib.pyplot as plt \n",
    "%matplotlib inline \n",
    "from analysis.lib.sim import electron_nuclear_sim as nsc; reload(nsc)\n",
    "\n",
    "from scipy.fftpack import fft, ifft, fftshift"
   ]
  },
  {
   "cell_type": "code",
   "execution_count": null,
   "metadata": {
    "collapsed": true
   },
   "outputs": [],
   "source": [
    "# Compare to envelope at zero DC. Very close, although slightly different at bigger detunings.\n",
    "\n",
    "reload(nsc)\n",
    "NVsys = nsc.noisy_NV_system(mw_duration=125e-9,carbon_params = [],inc_nitrogen=False,pulse_shape='Hermite')\n",
    "fids = nsc.mw_pulse_fid_scan_freq(NVsys)\n",
    "\n",
    "def  modified_gaussian_envelope(t,duration):\n",
    "    T_herm = 0.1667*duration\n",
    "    return (1 - 0.667 * ((t- duration/2)/T_herm)**2) * np.exp(-((t - duration/2)/T_herm)**2)\n",
    "\n",
    "NVsys.gaussian_envelope = modified_gaussian_envelope\n",
    "fids = nsc.mw_pulse_fid_scan_freq(NVsys)"
   ]
  },
  {
   "cell_type": "code",
   "execution_count": null,
   "metadata": {
    "collapsed": false
   },
   "outputs": [],
   "source": [
    "# Load in data \n",
    "import pandas as pd\n",
    "basepath=r\"/Volumes/Diamond/Projects/Networks/MWFidelity/Mean FFT LT4/\"\n",
    "fft_Meas= pd.read_csv(os.path.join(basepath,\"after_cryo_fft.csv\")).as_matrix()[:,0]\n",
    "fft_Meas = ([complex(jj.replace('+-','-')) for jj in fft_Meas])\n",
    "freq_Meas= (pd.read_csv(os.path.join(basepath,\"after_cryo_freq.csv\")).as_matrix()[:,0])\n",
    "centr_freq=1.718064e9\n",
    "\n",
    "plt.plot(freq_Meas,np.abs(fft_Meas))\n",
    "plt.xlim([centr_freq - 200e6, centr_freq + 200e6]);"
   ]
  },
  {
   "cell_type": "code",
   "execution_count": null,
   "metadata": {
    "collapsed": false
   },
   "outputs": [],
   "source": [
    "# Need to move pulse so that not at GHz, take to a reasonable value to compromise between capturing pulse shape and not having \n",
    "# too high a frequency\n",
    "\n",
    "freq_offset = 200e6\n",
    "freq_MeasS= freq_Meas -centr_freq+freq_offset\n",
    "ind_zero = np.argmin(np.abs(freq_MeasS))\n",
    "\n",
    "# Get phase of original signal\n",
    "phase_term = np.angle(fft_Meas[np.argmin(np.abs(freq_MeasS -freq_offset))])\n",
    "start_sig_time = 720.25e-9 # Needed to fix the phase of the pulse so that an X pulse\n",
    "phase_shift = np.exp(1.0j*(phase_term+2*np.pi*start_sig_time/freq_offset))\n",
    "\n",
    "# Calculate shifted FFT\n",
    "shift_fft = np.array(fft_Meas[ind_zero:len(fft_Meas)/2])*phase_shift\n",
    "shift_fft = np.append(shift_fft,np.flipud(np.conjugate(shift_fft[1:])))\n",
    "shift_freq = freq_MeasS[ind_zero:len(fft_Meas)/2]\n",
    "shift_freq = np.append(shift_freq,-np.flipud(shift_freq[1:]))\n",
    "plt.plot(fftshift(shift_freq),fftshift(np.abs(shift_fft)))\n",
    "plt.xlim([-3e8,3e8])\n",
    "plt.show()\n",
    "\n",
    "# Take to time domain\n",
    "sig_Meas = (ifft(shift_fft,axis=0))\n",
    "time_Meas = np.arange(0,shift_freq.shape[-1])/(((shift_freq.shape[-1]+1))*(freq_Meas[1]-freq_Meas[0]))\n",
    "mintime = np.argmin(np.abs(time_Meas - start_sig_time))\n",
    "maxtime = np.argmin(np.abs(time_Meas - 850e-9))\n",
    "sig_Meas = np.real(sig_Meas[mintime:maxtime])\n",
    "time_Meas = time_Meas[mintime:maxtime]-start_sig_time\n",
    "\n",
    "# Interpolate\n",
    "from scipy.interpolate import interp1d\n",
    "pulseFnc = interp1d(time_Meas, sig_Meas, kind='linear')\n",
    "\n",
    "def  gaussian_envelope_meas(t,duration):\n",
    "    return 0.99*1.04*1.4*pulseFnc(t)\n",
    "\n",
    "def  gaussian_envelope(t,duration):\n",
    "    T_herm = 0.1667*duration\n",
    "    return 2*np.cos(t*2*np.pi*200e6)*(1 - 0.957 * ((t- duration/2)/T_herm)**2) * np.exp(-((t - duration/2)/T_herm)**2)\n",
    "\n",
    "plt.plot(np.arange(0.1e-9,125e-9,1e-10),gaussian_envelope(np.arange(0.1e-9,125e-9,1e-10),125e-9))\n",
    "plt.plot(np.arange(0.1e-9,125e-9,1e-10),gaussian_envelope_meas(np.arange(0.1e-9,125e-9,1e-10),200e-9))"
   ]
  },
  {
   "cell_type": "code",
   "execution_count": null,
   "metadata": {
    "collapsed": false
   },
   "outputs": [],
   "source": [
    "reload(nsc)\n",
    "# Sweep amplitude to calibrate\n",
    "NVsys = nsc.noisy_NV_system(mw_duration=125e-9,carbon_params = [],inc_nitrogen=False,pulse_shape='Hermite',norm_pulse=51850457.9335,compensate_mw_detuning = True,NV_detuning=200e6)\n",
    "NVsys.gaussian_envelope = gaussian_envelope_meas\n",
    "fids = nsc.mw_pulse_fid_scan_amp(NVsys)\n"
   ]
  },
  {
   "cell_type": "code",
   "execution_count": null,
   "metadata": {
    "collapsed": false
   },
   "outputs": [],
   "source": [
    "reload(nsc)\n",
    "\n",
    "NVsys = nsc.noisy_NV_system(mw_duration=125e-9,carbon_params = [],inc_nitrogen=False,pulse_shape='Hermite',norm_pulse=51850457.9335,compensate_mw_detuning = True,mw_detuning=200e6)\n",
    "NVsys.gaussian_envelope = gaussian_envelope_meas\n",
    "fids = nsc.mw_pulse_fid_scan_freq(NVsys,freq_range =  np.arange(190e6,210.0e6,5e5))\n",
    "\n",
    "NVsys = nsc.noisy_NV_system(mw_duration=125e-9,carbon_params = [],inc_nitrogen=False,pulse_shape='Hermite',norm_pulse=51850457.9335,compensate_mw_detuning = True,mw_detuning=200e6)\n",
    "NVsys.gaussian_envelope = gaussian_envelope\n",
    "fids = nsc.mw_pulse_fid_scan_freq(NVsys,freq_range =  np.arange(190e6,210.0e6,5e5))"
   ]
  },
  {
   "cell_type": "code",
   "execution_count": null,
   "metadata": {
    "collapsed": true
   },
   "outputs": [],
   "source": []
  }
 ],
 "metadata": {
  "kernelspec": {
   "display_name": "Python 2",
   "language": "python",
   "name": "python2"
  },
  "language_info": {
   "codemirror_mode": {
    "name": "ipython",
    "version": 2
   },
   "file_extension": ".py",
   "mimetype": "text/x-python",
   "name": "python",
   "nbconvert_exporter": "python",
   "pygments_lexer": "ipython2",
   "version": "2.7.11"
  }
 },
 "nbformat": 4,
 "nbformat_minor": 1
}
