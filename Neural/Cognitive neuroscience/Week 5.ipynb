{
 "cells": [
  {
   "cell_type": "code",
   "execution_count": 3,
   "metadata": {},
   "outputs": [
    {
     "name": "stdout",
     "output_type": "stream",
     "text": [
      "C = 0.100 nF\n",
      "R = 500.000 M ohms\n",
      "tau = 50.000 ms\n",
      "(Theoretical)\n",
      "tau = 50.000 ms\n",
      "(Experimental)\n"
     ]
    },
    {
     "data": {
      "image/png": "[encoded data removed]",
      "text/plain": [
       "<matplotlib.figure.Figure at 0x10af7e5c0>"
      ]
     },
     "metadata": {},
     "output_type": "display_data"
    }
   ],
   "source": [
    "from __future__ import print_function\n",
    "\"\"\"\n",
    "Created on Wed Apr 22 15:53:00 2015\n",
    "\n",
    "Charging and discharging curves for passive membrane patch\n",
    "R Rao 2007\n",
    "\n",
    "translated to Python by rkp 2015\n",
    "\"\"\"\n",
    "\n",
    "import numpy as np\n",
    "import matplotlib.pyplot as plt\n",
    "%matplotlib inline\n",
    "# input current\n",
    "I = 10 # nA\n",
    "\n",
    "# capacitance and leak resistance\n",
    "\n",
    "C = 0.1 # nF\n",
    "R = 500 # M ohms\n",
    "tau = R*C # = 0.1*100 nF-Mohms = 100*100 pF Mohms = 10 ms\n",
    "print('C = %.3f nF' % C)\n",
    "print('R = %.3f M ohms' % R)\n",
    "print('tau = %.3f ms' % tau)\n",
    "print('(Theoretical)')\n",
    "\n",
    "# membrane potential equation dV/dt = - V/RC + I/C\n",
    "\n",
    "tstop = 150 # ms\n",
    "\n",
    "V_inf = I*R # peak V (in mV)\n",
    "tau = 0 # experimental (ms)\n",
    "\n",
    "h = 0.2 # ms (step size)\n",
    "\n",
    "V = 0 # mV\n",
    "V_trace = [V] # mV\n",
    "\n",
    "for t in np.arange(h, tstop, h):\n",
    "\n",
    "   # Euler method: V(t+h) = V(t) + h*dV/dt\n",
    "   V = V +h*(- (V/(R*C)) + (I/C))\n",
    "\n",
    "   # Verify membrane time constant\n",
    "   if (not tau and (V > 0.6321*V_inf)):\n",
    "     tau = t\n",
    "     print('tau = %.3f ms' % tau)\n",
    "     print('(Experimental)')\n",
    "\n",
    "   \n",
    "   # Stop current injection \n",
    "   if t >= 0.6*tstop:\n",
    "     I = 0\n",
    "\n",
    "   V_trace += [V]\n",
    "   if t % 10 == 0:\n",
    "       plt.plot(np.arange(0,t+h, h), V_trace, color='r')\n",
    "       plt.xlim(0, tstop)\n",
    "       plt.ylim(0, V_inf)\n",
    "       plt.draw()\n",
    "       \n",
    "plt.show()"
   ]
  },
  {
   "cell_type": "code",
   "execution_count": 40,
   "metadata": {},
   "outputs": [
    {
     "data": {
      "image/png": "[encoded data removed]",
      "text/plain": [
       "<matplotlib.figure.Figure at 0x116242198>"
      ]
     },
     "metadata": {},
     "output_type": "display_data"
    },
    {
     "name": "stdout",
     "output_type": "stream",
     "text": [
      "0.0\n",
      "166.66666666666666\n"
     ]
    }
   ],
   "source": [
    "from __future__ import print_function\n",
    "\"\"\"\n",
    "Created on Wed Apr 22 16:02:53 2015\n",
    "\n",
    "Basic integrate-and-fire neuron \n",
    "R Rao 2007\n",
    "\n",
    "translated to Python by rkp 2015\n",
    "\"\"\"\n",
    "\n",
    "import numpy as np\n",
    "import matplotlib.pyplot as plt\n",
    "\n",
    "\n",
    "# input current\n",
    "I = 0.250 # nA\n",
    "\n",
    "# capacitance and leak resistance\n",
    "C = 1 # nF\n",
    "R = 40 # M ohms\n",
    "\n",
    "# I & F implementation dV/dt = - V/RC + I/C\n",
    "# Using h = 1 ms step size, Euler method\n",
    "\n",
    "V = 0\n",
    "tstop = 2000\n",
    "abs_ref = 5 # absolute refractory period \n",
    "ref = 0 # absolute refractory period counter\n",
    "V_trace = []  # voltage trace for plotting\n",
    "V_th = 10 # spike threshold\n",
    "spikes = 0\n",
    "for t in range(tstop):\n",
    "  \n",
    "   if not ref:\n",
    "       V = V - (V/(R*C)) + (I/C)\n",
    "   else:\n",
    "       ref -= 1\n",
    "       V = 0.2 * V_th # reset voltage\n",
    "   \n",
    "   if V > V_th:\n",
    "       V = 50 # emit spike\n",
    "       ref = abs_ref # set refractory counter\n",
    "       spikes += 1\n",
    "   V_trace += [V]\n",
    "\n",
    "\n",
    "plt.plot(V_trace)\n",
    "plt.show()\n",
    "\n",
    "print(spikes/tstop)\n",
    "print(1000/6)"
   ]
  },
  {
   "cell_type": "code",
   "execution_count": 36,
   "metadata": {},
   "outputs": [
    {
     "data": {
      "image/png": "[encoded data removed]",
      "text/plain": [
       "<matplotlib.figure.Figure at 0x1164a05c0>"
      ]
     },
     "metadata": {},
     "output_type": "display_data"
    }
   ],
   "source": [
    "from __future__ import print_function\n",
    "\"\"\"\n",
    "Created on Wed Apr 22 16:02:53 2015\n",
    "\n",
    "Basic integrate-and-fire neuron \n",
    "R Rao 2007\n",
    "\n",
    "translated to Python by rkp 2015\n",
    "\"\"\"\n",
    "\n",
    "import numpy as np\n",
    "import matplotlib.pyplot as plt\n",
    "\n",
    "\n",
    "# input current\n",
    "I = 1 # nA\n",
    "\n",
    "# capacitance and leak resistance\n",
    "C = 1 # nF\n",
    "R = 40 # M ohms\n",
    "\n",
    "# I & F implementation dV/dt = - V/RC + I/C\n",
    "# Using h = 1 ms step size, Euler method\n",
    "\n",
    "V = 0\n",
    "tstop = 20000\n",
    "abs_ref = 5 # absolute refractory period \n",
    "ref = 0 # absolute refractory period counter\n",
    "V_trace = []  # voltage trace for plotting\n",
    "V_th = 10 # spike threshold\n",
    "spiketimes = [] # list of spike times\n",
    "\n",
    "# input current\n",
    "noiseamp = 2 # amplitude of added noise\n",
    "I += noiseamp*np.random.normal(0, 1, (tstop,)) # nA; Gaussian noise\n",
    "\n",
    "for t in range(tstop):\n",
    "  \n",
    "   if not ref:\n",
    "       V = V - (V/(R*C)) + (I[t]/C)\n",
    "   else:\n",
    "       ref -= 1\n",
    "       V = 0.2 * V_th # reset voltage\n",
    "   \n",
    "   if V > V_th:\n",
    "       V = 50 # emit spike\n",
    "       ref = abs_ref # set refractory counter\n",
    "       spiketimes.append(t)\n",
    "   V_trace += [V]\n",
    "\n",
    "\n",
    "plt.plot(V_trace)\n",
    "plt.show()"
   ]
  },
  {
   "cell_type": "code",
   "execution_count": 30,
   "metadata": {},
   "outputs": [
    {
     "data": {
      "text/plain": [
       "(array([569., 400., 214.,  79.,  30.,  13.,   8.,   2.,   1.,   3.]),\n",
       " array([ 7. , 12.5, 18. , 23.5, 29. , 34.5, 40. , 45.5, 51. , 56.5, 62. ]),\n",
       " <a list of 10 Patch objects>)"
      ]
     },
     "execution_count": 30,
     "metadata": {},
     "output_type": "execute_result"
    },
    {
     "data": {
      "image/png": "[encoded data removed]",
      "text/plain": [
       "<matplotlib.figure.Figure at 0x11668bac8>"
      ]
     },
     "metadata": {},
     "output_type": "display_data"
    }
   ],
   "source": [
    "plt.hist(np.diff(spiketimes))"
   ]
  },
  {
   "cell_type": "code",
   "execution_count": null,
   "metadata": {},
   "outputs": [],
   "source": []
  }
 ],
 "metadata": {
  "kernelspec": {
   "display_name": "Python 3",
   "language": "python",
   "name": "python3"
  },
  "language_info": {
   "codemirror_mode": {
    "name": "ipython",
    "version": 3
   },
   "file_extension": ".py",
   "mimetype": "text/x-python",
   "name": "python",
   "nbconvert_exporter": "python",
   "pygments_lexer": "ipython3",
   "version": "3.6.4"
  }
 },
 "nbformat": 4,
 "nbformat_minor": 2
}
