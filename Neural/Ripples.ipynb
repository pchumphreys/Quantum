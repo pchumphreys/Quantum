{
 "cells": [
  {
   "cell_type": "code",
   "execution_count": 65,
   "metadata": {},
   "outputs": [],
   "source": [
    "#Import libraries for simulation\n",
    "import tensorflow as tf\n",
    "import numpy as np\n",
    "\n",
    "#Imports for visualization\n",
    "import PIL.Image\n",
    "from io import BytesIO\n",
    "from IPython.display import clear_output, Image, display"
   ]
  },
  {
   "cell_type": "code",
   "execution_count": 66,
   "metadata": {},
   "outputs": [],
   "source": [
    "def DisplayArray(a, fmt='jpeg', rng=[0,1]):\n",
    "  \"\"\"Display an array as a picture.\"\"\"\n",
    "  a = (a - rng[0])/float(rng[1] - rng[0])*255\n",
    "  a = np.uint8(np.clip(a, 0, 255))\n",
    "  f = BytesIO()\n",
    "  PIL.Image.fromarray(a).save(f, fmt)\n",
    "  clear_output(wait = True)\n",
    "  display(Image(data=f.getvalue()))"
   ]
  },
  {
   "cell_type": "code",
   "execution_count": 67,
   "metadata": {},
   "outputs": [],
   "source": [
    "sess = tf.InteractiveSession()"
   ]
  },
  {
   "cell_type": "code",
   "execution_count": 68,
   "metadata": {},
   "outputs": [],
   "source": [
    "def make_kernel(a):\n",
    "  \"\"\"Transform a 2D array into a convolution kernel\"\"\"\n",
    "  a = np.asarray(a)\n",
    "  a = a.reshape(list(a.shape) + [1,1])\n",
    "  return tf.constant(a, dtype=1)\n",
    "\n",
    "def simple_conv(x, k):\n",
    "  \"\"\"A simplified 2D convolution operation\"\"\"\n",
    "  x = tf.expand_dims(tf.expand_dims(x, 0), -1)\n",
    "  y = tf.nn.depthwise_conv2d(x, k, [1, 1, 1, 1], padding='SAME')\n",
    "  return y[0, :, :, 0]\n",
    "\n",
    "def laplace(x):\n",
    "  \"\"\"Compute the 2D laplacian of an array\"\"\"\n",
    "  laplace_k = make_kernel([[0.5, 1.0, 0.5],\n",
    "                           [1.0, -6., 1.0],\n",
    "                           [0.5, 1.0, 0.5]])\n",
    "  return simple_conv(x, laplace_k)"
   ]
  },
  {
   "cell_type": "code",
   "execution_count": 69,
   "metadata": {},
   "outputs": [],
   "source": [
    "N = 300"
   ]
  },
  {
   "cell_type": "code",
   "execution_count": 70,
   "metadata": {},
   "outputs": [
    {
     "data": {
      "image/jpeg": "[encoded data removed]",
      "text/plain": [
       "<IPython.core.display.Image object>"
      ]
     },
     "metadata": {},
     "output_type": "display_data"
    }
   ],
   "source": [
    "# Initial Conditions -- some rain drops hit a pond\n",
    "\n",
    "# Set everything to zero\n",
    "u_init = np.zeros([N, N], dtype=np.float32)\n",
    "ut_init = np.zeros([N, N], dtype=np.float32)\n",
    "\n",
    "# Some rain drops hit a pond at random points\n",
    "for n in range(40):\n",
    "  a,b = np.random.randint(0, N, 2)\n",
    "  u_init[a,b] = np.random.uniform()\n",
    "\n",
    "DisplayArray(u_init, rng=[-0.1, 0.1])"
   ]
  },
  {
   "cell_type": "code",
   "execution_count": 71,
   "metadata": {},
   "outputs": [],
   "source": [
    "# Parameters:\n",
    "# eps -- time resolution\n",
    "# damping -- wave damping\n",
    "eps = tf.placeholder(tf.float32, shape=())\n",
    "damping = tf.placeholder(tf.float32, shape=())\n",
    "\n",
    "# Create variables for simulation state\n",
    "U  = tf.Variable(u_init)\n",
    "Ut = tf.Variable(ut_init)\n",
    "\n",
    "# Discretized PDE update rules\n",
    "U_ = U + eps * Ut\n",
    "Ut_ = Ut + eps * (laplace(U) - damping * Ut)\n",
    "\n",
    "# Operation to update the state\n",
    "step = tf.group(\n",
    "  U.assign(U_),\n",
    "  Ut.assign(Ut_))"
   ]
  },
  {
   "cell_type": "code",
   "execution_count": 72,
   "metadata": {},
   "outputs": [
    {
     "data": {
      "image/jpeg": "[encoded data removed]",
      "text/plain": [
       "<IPython.core.display.Image object>"
      ]
     },
     "metadata": {},
     "output_type": "display_data"
    },
    {
     "data": {
      "text/plain": [
       "<Figure size 432x288 with 0 Axes>"
      ]
     },
     "metadata": {},
     "output_type": "display_data"
    }
   ],
   "source": [
    "# Initialize state to initial conditions\n",
    "tf.global_variables_initializer().run()\n",
    "\n",
    "fig = plt.figure()\n",
    "# Run 1000 steps of PDE\n",
    "import time \n",
    "initt = time.time()\n",
    "for i in range(1000):\n",
    "  # Step simulation\n",
    "  step.run({eps: 0.03, damping: 0.04})\n",
    "  DisplayArray(U.eval(), rng=[-0.1, 0.1])"
   ]
  },
  {
   "cell_type": "code",
   "execution_count": null,
   "metadata": {},
   "outputs": [],
   "source": []
  }
 ],
 "metadata": {
  "kernelspec": {
   "display_name": "Python 2",
   "language": "python",
   "name": "python2"
  },
  "language_info": {
   "codemirror_mode": {
    "name": "ipython",
    "version": 2
   },
   "file_extension": ".py",
   "mimetype": "text/x-python",
   "name": "python",
   "nbconvert_exporter": "python",
   "pygments_lexer": "ipython2",
   "version": "2.7.14"
  }
 },
 "nbformat": 4,
 "nbformat_minor": 2
}
