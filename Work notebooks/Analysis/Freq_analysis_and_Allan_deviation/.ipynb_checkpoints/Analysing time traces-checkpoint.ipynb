{
 "cells": [
  {
   "cell_type": "code",
   "execution_count": 2,
   "metadata": {
    "collapsed": false
   },
   "outputs": [],
   "source": [
    "import numpy as np\n",
    "import os.path\n",
    "import pandas\n",
    "import matplotlib\n",
    "import scipy.signal\n",
    "\n",
    "%matplotlib inline\n",
    "import matplotlib.pyplot as plt\n",
    "\n",
    "data_dir = \"/Users/humphreys/Documents/IDrive-Sync/Work/Delft/Projects/Notebooks/Analysis/Freq_analysis_and_Allan_deviation/16_05_31_InterferometricStability\"\n"
   ]
  },
  {
   "cell_type": "markdown",
   "metadata": {},
   "source": [
    "## Interferometric trace"
   ]
  },
  {
   "cell_type": "code",
   "execution_count": 5,
   "metadata": {
    "collapsed": false
   },
   "outputs": [],
   "source": [
    "file_name = \"16_05_31_InterferometricStability.csv\"\n",
    "\n",
    "filename = os.path.join(data_dir,file_name)\n",
    "\n",
    "scope = 'Slow' #TODO Get better scope names\n",
    "\n",
    "if scope == 'Fast':\n",
    "    # To open files from the fast scope (CSV)\n",
    "\n",
    "    file = open(filename)\n",
    "    for x in range(9):\n",
    "            line = file.readline()\n",
    "            if \"HResolution\" in line:\n",
    "                TimeRes = float(line[-18:-1])\n",
    "    file.close()\n",
    "    \n",
    "    subdiv = 1            \n",
    "    data = pandas.read_csv(os.path.join(data_dir,filename),header=None,skiprows = 15)\n",
    "    data = data.drop([0,2],1)\n",
    "    data = data.rolling(window = 100).mean()\n",
    "    data = data.as_matrix()[100:-100:subdiv]\n",
    "    \n",
    "    TimeRes = TimeRes*subdiv\n",
    "    t = TimeRes*np.arange(len(vals))\n",
    "    \n",
    "elif scope == 'Slow':\n",
    "    data = pandas.read_csv(os.path.join(data_dir,filename),header=0,skiprows = 0,nrows=1)\n",
    "    TimeRes = data['Increment'][0]\n",
    "\n",
    "    subdiv = 1            \n",
    "    data = pandas.read_csv(os.path.join(data_dir,filename),header=None,skiprows = 2)\n",
    "    data = data.drop([0,2],1)\n",
    "    data = data.rolling(window = 100).mean()\n",
    "    data = data.as_matrix()[100:-100:subdiv]\n",
    "\n",
    "    TimeRes = TimeRes*subdiv\n",
    "    t = TimeRes*np.arange(len(vals))\n",
    "\n",
    "\n",
    "NormMax = np.amax(data); NormMin = np.amin(data)\n",
    "data = (np.array(data)-(NormMax+NormMin)/2)*(2./(NormMax-NormMin)) "
   ]
  },
  {
   "cell_type": "code",
   "execution_count": 6,
   "metadata": {
    "collapsed": false,
    "scrolled": false
   },
   "outputs": [
    {
     "data": {
      "image/png": "[encoded data removed]",
      "text/plain": [
       "<matplotlib.figure.Figure at 0x115fcc110>"
      ]
     },
     "metadata": {},
     "output_type": "display_data"
    }
   ],
   "source": [
    "fig = plt.figure(figsize=(12, 3))\n",
    "\n",
    "ax = plt.subplot(1,3,1)\n",
    "plt.plot(t,data)\n",
    "plt.xlabel('time (s)')\n",
    "plt.ylabel('signal (V)')\n",
    "\n",
    "ax = plt.subplot(1,3,2)\n",
    "        \n",
    "plt.plot(t,data)\n",
    "plt.xlim([0,1])\n",
    "plt.xlabel('time (s)')\n",
    "\n",
    "ax = plt.subplot(1,3,3)        \n",
    "plt.plot(t,data)\n",
    "plt.xlim([0,0.1])\n",
    "plt.xlabel('time (s)')\n",
    "\n",
    "\n",
    "plt.show()\n",
    "plt.close(fig)"
   ]
  },
  {
   "cell_type": "code",
   "execution_count": 7,
   "metadata": {
    "collapsed": false
   },
   "outputs": [
    {
     "ename": "NameError",
     "evalue": "name 'resn' is not defined",
     "output_type": "error",
     "traceback": [
      "\u001b[0;31m---------------------------------------------------------------------------\u001b[0m",
      "\u001b[0;31mNameError\u001b[0m                                 Traceback (most recent call last)",
      "\u001b[0;32m<ipython-input-7-5de41c5475d1>\u001b[0m in \u001b[0;36m<module>\u001b[0;34m()\u001b[0m\n\u001b[0;32m----> 1\u001b[0;31m \u001b[0mfreq_pow\u001b[0m\u001b[0;34m,\u001b[0m \u001b[0mpower\u001b[0m \u001b[0;34m=\u001b[0m \u001b[0mscipy\u001b[0m\u001b[0;34m.\u001b[0m\u001b[0msignal\u001b[0m\u001b[0;34m.\u001b[0m\u001b[0mwelch\u001b[0m\u001b[0;34m(\u001b[0m\u001b[0mdata\u001b[0m\u001b[0;34m,\u001b[0m \u001b[0maxis\u001b[0m \u001b[0;34m=\u001b[0m \u001b[0;36m0\u001b[0m\u001b[0;34m,\u001b[0m \u001b[0mfs\u001b[0m \u001b[0;34m=\u001b[0m \u001b[0;36m1\u001b[0m\u001b[0;34m/\u001b[0m\u001b[0mresn\u001b[0m\u001b[0;34m,\u001b[0m\u001b[0mnperseg\u001b[0m \u001b[0;34m=\u001b[0m \u001b[0;36m100000\u001b[0m\u001b[0;34m)\u001b[0m\u001b[0;34m\u001b[0m\u001b[0m\n\u001b[0m\u001b[1;32m      2\u001b[0m \u001b[0;34m\u001b[0m\u001b[0m\n\u001b[1;32m      3\u001b[0m \u001b[0mfig\u001b[0m \u001b[0;34m=\u001b[0m \u001b[0mplt\u001b[0m\u001b[0;34m.\u001b[0m\u001b[0mfigure\u001b[0m\u001b[0;34m(\u001b[0m\u001b[0mfigsize\u001b[0m\u001b[0;34m=\u001b[0m\u001b[0;34m(\u001b[0m\u001b[0;36m12\u001b[0m\u001b[0;34m,\u001b[0m \u001b[0;36m3\u001b[0m\u001b[0;34m)\u001b[0m\u001b[0;34m)\u001b[0m\u001b[0;34m\u001b[0m\u001b[0m\n\u001b[1;32m      4\u001b[0m \u001b[0;34m\u001b[0m\u001b[0m\n\u001b[1;32m      5\u001b[0m \u001b[0;32mfrom\u001b[0m \u001b[0mdetect_peaks\u001b[0m \u001b[0;32mimport\u001b[0m \u001b[0mdetect_peaks\u001b[0m\u001b[0;34m\u001b[0m\u001b[0m\n",
      "\u001b[0;31mNameError\u001b[0m: name 'resn' is not defined"
     ]
    }
   ],
   "source": [
    "freq_pow, power = scipy.signal.welch(data, axis = 0, fs = 1/TimeRes,nperseg = 100000)\n",
    "\n",
    "fig = plt.figure(figsize=(12, 3))\n",
    "\n",
    "from detect_peaks import detect_peaks\n",
    "\n",
    "peaks = detect_peaks(np.squeeze(power),mpd=3/(freq_pow[1]-freq_pow[0]))\n",
    "peaks = peaks[np.argsort(np.squeeze(power[peaks]))][::-1]\n",
    "peaks = peaks[0:10]\n",
    "\n",
    "for freq,pow in zip(freq_pow[peaks], power[peaks]):\n",
    "    print 'freq: %d, height: %.4f' % (freq, pow)\n",
    "    \n",
    "ax = plt.subplot(1,3,1)\n",
    "plt.plot(freq_pow,power)\n",
    "plt.xlim([0,2000])\n",
    "plt.ylim([0,0.008])\n",
    "plt.xlabel('freq (Hz)')\n",
    "plt.ylabel('Noise power (V**2/Hz)')\n",
    "\n",
    "ax = plt.subplot(1,3,2)\n",
    "        \n",
    "plt.plot(freq_pow,power)\n",
    "plt.xlim([0,1000])\n",
    "plt.ylim([0,0.008])\n",
    "plt.xlabel('freq (Hz)')\n",
    "plt.scatter(freq_pow[peaks],power[peaks],c='r')\n",
    "\n",
    "ax = plt.subplot(1,3,3) \n",
    "plt.plot(freq_pow,power)\n",
    "plt.xlim([0,10])\n",
    "plt.ylim([0,0.8])\n",
    "plt.xlabel('freq (Hz)')\n",
    "\n",
    "\n",
    "plt.show()\n",
    "plt.close(fig)"
   ]
  },
  {
   "cell_type": "code",
   "execution_count": 9,
   "metadata": {
    "collapsed": false
   },
   "outputs": [
    {
     "name": "stdout",
     "output_type": "stream",
     "text": [
      "Relative DC power: 0.982\n",
      "Relative in-band power: 0.017\n",
      "Relative in-band power (minus DC): 0.957\n",
      "Full noise power: 4.284e-01\n",
      "DC noise power: 4.208e-01\n"
     ]
    }
   ],
   "source": [
    "min_freq = 100\n",
    "max_freq = 1000\n",
    "\n",
    "min_ind = np.argmin(np.abs(freq_pow-min_freq))\n",
    "max_ind = np.argmin(np.abs(freq_pow-max_freq))\n",
    "\n",
    "pow_int = scipy.integrate.trapz(power[min_ind:max_ind],freq_pow[min_ind:max_ind],axis=0)\n",
    "full_pow = scipy.integrate.trapz(power,freq_pow,axis=0)\n",
    "\n",
    "dc_freq = 3\n",
    "dc_ind = np.argmin(np.abs(freq_pow-dc_freq))\n",
    "\n",
    "pow_dc = scipy.integrate.trapz(power[0:dc_ind],freq_pow[0:dc_ind],axis=0)\n",
    "\n",
    "rel_dc_pow = pow_dc/full_pow\n",
    "print 'Relative DC power: %.3f' %rel_dc_pow\n",
    "\n",
    "rel_pow = pow_int/full_pow\n",
    "print 'Relative in-band power: %.3f' %rel_pow\n",
    "\n",
    "rel_band_pow = pow_int/(full_pow-pow_dc)\n",
    "print 'Relative in-band power (minus DC): %.3f' %rel_band_pow\n",
    "\n",
    "print 'Full noise power: %.3e' %full_pow\n",
    "\n",
    "print 'DC noise power: %.3e' %pow_dc\n"
   ]
  },
  {
   "cell_type": "code",
   "execution_count": 10,
   "metadata": {
    "collapsed": false
   },
   "outputs": [
    {
     "data": {
      "image/png": "[encoded data removed]",
      "text/plain": [
       "<matplotlib.figure.Figure at 0x1176bbd10>"
      ]
     },
     "metadata": {},
     "output_type": "display_data"
    }
   ],
   "source": [
    "freq_bin = 10.\n",
    "min_freq = 3\n",
    "max_freq = 1000\n",
    "\n",
    "freq_rate = freq_pow[1]- freq_pow[0]\n",
    "ind_bin = int(freq_bin/freq_rate)\n",
    "min_ind = np.argmin(np.abs(freq_pow-min_freq))\n",
    "max_ind = np.argmin(np.abs(freq_pow-max_freq))\n",
    "\n",
    "cum_points = np.arange(min_ind,max_ind,ind_bin)\n",
    "\n",
    "cum_freqs = freq_pow[cum_points[1:]]\n",
    "cum_pow = np.zeros(np.shape(cum_freqs))\n",
    "\n",
    "for x in range(len(cum_pow)-1):\n",
    "    cum_pow[x+1] = cum_pow[x] + scipy.integrate.trapz(power[cum_points[x]:cum_points[x+1]],freq_pow[cum_points[x]:cum_points[x+1]],axis=0)\n",
    "\n",
    "cum_pow = cum_pow/(full_pow-pow_dc)\n",
    "\n",
    "fig = plt.figure()\n",
    "ax = plt.subplot() \n",
    "plt.plot(cum_freqs,cum_pow)\n",
    "plt.xlabel('freq (Hz)')\n",
    "plt.ylabel('Integrated noise power (V**2)')\n",
    "\n",
    "plt.show()\n",
    "plt.close(fig)"
   ]
  },
  {
   "cell_type": "markdown",
   "metadata": {},
   "source": [
    "### Just to check, lets do a FFT"
   ]
  },
  {
   "cell_type": "code",
   "execution_count": 173,
   "metadata": {
    "collapsed": false
   },
   "outputs": [
    {
     "data": {
      "image/png": "[encoded data removed]",
      "text/plain": [
       "<matplotlib.figure.Figure at 0x11785e1d0>"
      ]
     },
     "metadata": {},
     "output_type": "display_data"
    }
   ],
   "source": [
    "### fast fourier transform\n",
    "from scipy.fftpack import fft\n",
    "\n",
    "fft = fft(data,axis=0)\n",
    "freq = np.fft.fftfreq(t.shape[-1],TimeRes)\n",
    "\n",
    "N = len(fft)\n",
    "fft = fft[0:N/2]\n",
    "freq = freq[0:N/2]\n",
    "\n",
    "fig = plt.figure()\n",
    "ax = plt.subplot()\n",
    "        \n",
    "plt.plot(freq,np.abs(fft))\n",
    "plt.xlim([0,1000])\n",
    "plt.ylim([0,10000])\n",
    "plt.show()\n",
    "plt.close(fig)"
   ]
  }
 ],
 "metadata": {
  "kernelspec": {
   "display_name": "Python 2",
   "language": "python",
   "name": "python2"
  },
  "language_info": {
   "codemirror_mode": {
    "name": "ipython",
    "version": 2
   },
   "file_extension": ".py",
   "mimetype": "text/x-python",
   "name": "python",
   "nbconvert_exporter": "python",
   "pygments_lexer": "ipython2",
   "version": "2.7.11"
  }
 },
 "nbformat": 4,
 "nbformat_minor": 0
}
