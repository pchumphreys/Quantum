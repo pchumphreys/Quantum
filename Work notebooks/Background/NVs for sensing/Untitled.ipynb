{
 "cells": [
  {
   "cell_type": "markdown",
   "metadata": {},
   "source": [
    "# Using NVs for sensing\n",
    "\n",
    "## Literature review\n",
    "\n",
    "### Wide-field multispectral super-resolution imaging using spin-dependent fluorescence in nanodiamonds\n",
    "\n",
    "Englund group paper\n",
    "\n"
   ]
  }
 ],
 "metadata": {
  "kernelspec": {
   "display_name": "Python 2",
   "language": "python",
   "name": "python2"
  },
  "language_info": {
   "codemirror_mode": {
    "name": "ipython",
    "version": 2
   },
   "file_extension": ".py",
   "mimetype": "text/x-python",
   "name": "python",
   "nbconvert_exporter": "python",
   "pygments_lexer": "ipython2",
   "version": "2.7.11"
  }
 },
 "nbformat": 4,
 "nbformat_minor": 0
}
