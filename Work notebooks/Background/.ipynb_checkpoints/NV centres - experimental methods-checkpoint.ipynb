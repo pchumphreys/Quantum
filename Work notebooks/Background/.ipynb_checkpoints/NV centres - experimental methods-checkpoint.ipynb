{
 "cells": [
  {
   "cell_type": "markdown",
   "metadata": {},
   "source": [
    "# Quantum information protocols with NV centres\n",
    "\n",
    "Here is a quick overview of the main steps in QI protocols using NV centres:\n",
    "\n",
    "### Preparation\n",
    "\n",
    "An initial off-resonance optical pulse is used to prepare the ground state spin via optical spin-polarisation. \n",
    "\n",
    "### Manipulation\n",
    "\n",
    "This is followed by the application of static and microwave fields to manipulate the spin (and potentially radio frequency fields to manipulate coupled nuclear spins) and a period to allow the NV to interact with other spins and evolve. \n",
    "\n",
    "### Readout\n",
    "\n",
    "Finally, an off-resonance optical pulse is used to readout the ground state spin by mea- suring the integrated Stokes shifted fluorescence. \n",
    "\n",
    "### Challenges \n",
    "\n",
    "It is clear that this mode of operation relies upon the performance of the optical spin-polarisation and readout mechanisms, which are currently only crudely understood. Indeed, the degree of ground state optical spin-polarisation is not consistently reported in the literature, with many different values ranging from 42-96% reported.\n",
    "\n",
    "Since the ground state spin-polarisation represents the preparation fidelity of the qubit, it is vital to the operation of the qubit that it is well characterised. However, to date there has been no systematic study of spin-polarisation and its variation with applied electromagnetic fields, strain, and temperature. \n",
    "\n",
    "\n",
    "\n",
    "Recently, there have been reports of readout enhancement techniques using hyperfine coupling with N and 13C nuclear spins, however it is quite possible that a fully developed understanding of the optical readout mechanism will provide alternate means to enhance readout more significantly. "
   ]
  },
  {
   "cell_type": "markdown",
   "metadata": {},
   "source": [
    "## Charge state preparation \n",
    "\n",
    "Adapted from [Gali2013] \n",
    "\n",
    "Resonant excitation can easily suppress emission of the negatively charged NV defect, transferring it to a long living dark state. The rate at which laser excitation\n",
    "transfers the NV center into the dark state is well fitted by a quadratic function of the laser power. This is thought to be due to a two photon process in which one photon excites the 3E state while the second photon transfers the electron to the conduction band of the diamond host material. \n",
    "\n",
    "Conventionally an off-resonant shorter wavelength laser (532 nm) is used to restore NV\u0001 emission after bleaching by resonant excitation. However, this results in an unwanted side effect—spectral shift of the NV\u0001 transitions. High power (a few milliwatts) 532 nm laser pulses can excite many closely situated impurities and thereby drastically change the surrounding charge distribution. \n",
    "\n",
    "The spectral stability of NV\u0001 is improved when repumping is done at the ZPL of NV0, since the less energetic and lower intensity yellow laser has lesser impact on the system. A more than fourfold enhancement of the NV\u0001 spectral stability is achieved in the method exploiting repumping at ZPL of NV0.\n",
    "\n",
    "### Delft protocol \n",
    "\n",
    "> We verify charge and resonance condition by applying laser pulses on Ey and E1,2 simultaneously and putting a lower threshold on the number of phonon side band photons detected during those pulses. If the threshold is not met we reset\n",
    "the charge state: On Alice, we repump NV0 → NV− using a laser at 575 nm, on resonance with the ZPL of NV0. On Bob, we use off-resonant excitation at 532 nm. We repeat verification and repump until success. "
   ]
  },
  {
   "cell_type": "markdown",
   "metadata": {},
   "source": [
    "## Polarisation state initialisation"
   ]
  },
  {
   "cell_type": "markdown",
   "metadata": {},
   "source": [
    "## <a name=dynamicalDecoupling></a>Dynamical decoupling\n",
    "\n",
    "As noted previously, the primary contribution to the decoherence of the spin qubit is the nuclear spin bath of $^{13}$C (or nitrogen defect centres in type Ib diamonds). However, this nuclear spins are exceedingly long lived, which means that the noise is quasi-static. This allows dynamical decoupling techniques to very effectively increase $T_2$ times from $\\approx 1 \\mu s$ to $\\geq 10 ms$ (c.f. 14.3 ms in Bernien2013)\n",
    "\n",
    "From **Repeated quantum error correction on a continuously encoded qubit by real-time feedback**\n",
    "\n",
    "> The ancilla NV electron spin is characterized by a Rabi frequency of 4.3 MHz, a dephasing time T∗2 =4.6(2) µs, a Hahn echo time T2 = 1.03(3) ms and a longitudinal relaxation time of 0.43(6) s (due to microwave noise and laser background). The coherence time of the ancilla under dynamical decoupling is over 25 ms and does not limit the experiments."
   ]
  },
  {
   "cell_type": "markdown",
   "metadata": {},
   "source": [
    "## Spin state measurement\n",
    "\n",
    "A second significant problem is the readout contrast, which due to low collection efficiencies of current apparatus, is limited to a difference of a fraction of a photon between the ms = 0 and ±1 spin-projections. Consequently, a single qubit operation must be performed many times before sufficient shot-noise statistics are acquired to distinguish the spin-projections. This is a problem since occasionally the spin can decay non-radiatively, ending up in the other state. Tim mentioned some solutions to this. One obvious one is to use a cavity. **Try to remember other solution**\n",
    "\n",
    "From **Repeated quantum error correction on a continuously encoded qubit by real-time feedback, Arxiv 1508.01388 (2015)**\n",
    "\n",
    "> Imperfect knowledge of the ancilla state during or after readout dephases the qubits. To minimize this dephasing, we implement quantum non-demolition measurements of the ancilla by resonant optical excitation of $|0>$ and stopping the excitation within 2 µs upon photon detection (outcome $|0>$) to minimize spin flips in the optically excited state. The resulting readout fidelities are $F_0$ = 0.890(4) and $F_1$ = 0.988(2) (average: F = 0.939(2)). Crucially, the post-measurement fidelity after correctly assigning |0?a is 0.992, demonstrating the desired non-demolition character"
   ]
  },
  {
   "cell_type": "markdown",
   "metadata": {},
   "source": [
    "## Entanglement generation\n",
    "\n",
    "It is possible to entangle the spin state of an NV centre with the photon number of a field mode. This is achieved by driving the spin conserving transition between $^3A$ and $^3E$ resonant with the ms = 0 level. As the ms = 0 excited state dynamics are dominated by radiative decay, with high probability (NUMBER), upon excitation the NV centre will produce a photon if it is in the ms = 0 state.\n",
    "\n",
    "This photon-number - spin-state entanglement is less useful than entanglement with the modal occupation of a single photon. This is because it is less resilient to noise (CHECK, maybe the Benjamin paper), and furthermore is sensitive to the precise optical phase picked up in progagation of the photon. Therefore the preferred approach of the Hanson group is to  entangle photon number with spin, flip the spin, and excite again - this produces a time-bin qubit encoded single photon entangled with the spin. Two time-bin photons from different NVs are then interfered to produce NV-NV entanglement.\n",
    "\n",
    "In **Heralded entanglement between solid-state qubits separated by three metres (Hanson, Nature 2013)**, this was used to entangle two NVs.\n",
    "\n",
    "**Unconditional quantum teleportation between distant solid-state quantum bits (Hanson, Science 2014)** used the same protocol. \n",
    "> Compared to the initial demonstration of this entangling protocol, we have further enhanced the efficiency of photon collection from our device through an antireflection coating. Also, we have improved both the spectral stability of the NV center’s optical transition and the charge state initialization by resonant re-pumping on the neutral-charge state zero-phonon line. As a result, the generation rate of the entangled is increased fivefold to 1/250 s−1 and the entangled state fidelity is improved from 0.73 to an estimated 0.87. \n",
    "\n",
    "For details on resonant re-pumping see X (**TO ADD**)\n",
    "\n",
    "**Loophole-free Bell inequality violation using electron spins separated by 1.3 kilometres (Nature 2015)**\n",
    "-\tFidelity with Bell state 0.92.\n",
    "-\tCollection efficiency 13% (including q.e of detectors)\n",
    "-\tReadout fidelity ~0.95 for ms = 0, 0.995 for ms = 1. **TO ADD - section discussing improving this**\n",
    "-\tThey use DD to mitigate decoherence from spin bath. **TO ADD - section discussing improving this**\n",
    "<img src=\"files/entanglementGen.png\", style=\"width:600px;\"/> \n",
    "\n",
    "#### ZPL and Cavities\n",
    "\n",
    "The key challenge facing entanglement generation protocols is that only 3-4% of the emitted photons are emitted in the ZPL. The rest of the photons are emitted in the vibronic sideband, and are in a mixed state due to unwanted entanglement with a phonon. This can be overcome by employing Purcell enhancement from a cavity. In essence, this enhances the coupling to one mode, ensuring that the photons produced is emitted into this mode. I need to read up on the theory of this a bit more, however, it is a well established technique. When I visited the group it sounded like they were getting close to having a cavity with a Q factor of 50,000. This was expected to produce a Purcell enhancement of x, and also directs more photons into the desired mode, leading to an increase in collection efficiency into fibre of x times. Since two photons are required in this protocol, two cavities would therefore allow for entanglement generation at X.\n"
   ]
  },
  {
   "cell_type": "markdown",
   "metadata": {},
   "source": [
    "## Nuclear spin register\n",
    "\n",
    "Many of the techniques were pioneered by Tim (e.g. see **Universal control and error correction in multi-qubit spin registers in diamond, Nat. Nanotechnol. 9 (2014)**):\n",
    "\n",
    "- Previous experiments relied on selected defects having nuclear spins with strong hyperfine couplings that exceed the inverse of the electron spin dephasing time (1/T2\\*).\n",
    "- However, the number of strongly coupled spins varies per defect and is intrinsically limited, \n",
    "- They overcome this challenge to demonstrate universal control of weakly coupled nuclear spins (unresolved hyperfine coupling ≪1/T2*). \n",
    "- Their control method exploits the dependence of the nuclear spin quantization axis on the electron spin state as a result of the aniso- tropic hyperfine interaction, so no radiofrequency driving of the nuclear spins is required. \n",
    "- All nuclear gates are implemented by pulse sequences of the form $(\\tau –\\pi –2\\tau –\\pi –\\tau)^{N/2}$ where $\\pi$ is a microwave $\\pi$-pulse on the electron spin, $2\\tau$ is the inter-pulse delay and $N$ is the total number of pulses in the sequence.\n",
    "- Each nuclear spin is controlled by precisely choosing $\\tau$ in resonance with that spin’s particular hyperfine interaction. \n",
    "- Crucially, at the same time, these sequences decouple the electron from the other nuclear qubits and the environment.\n",
    "- These decoherence-protected gates are selective and allow the full electron coherence time  to be exploited ($T_{coh}$ = 2.86(4) ms). The gates are thus not limited by the electron spin dephasing time $T_2^\\ast$ = 3.3(1) $\\mu$s or the Hahn echo time $T_2$. ** TO ADD - what is the definition here of T_2 etc?**\n",
    "\n",
    "**Room-Temperature Quantum Bit Memory Exceeding One Second (Lukin, Science 2012)**\n",
    "-\tSingle Carbon 13 spin (low concentration)\n",
    "-\tWeak hyperfine interaction (2 kHz)\n",
    "-\tUse lasers to reduce impact of NV electron spin. Not clear if easily employed in useful scenarios since relies on averaging the state of the electron.\n",
    "\n",
    "Useful note - 13C nuclear spin gyromagnetic ratio is 10.705 MHz $T^{-1}$ c.f. 28.02 GHz $T^{-1}$ for an electron.\n",
    "\n",
    "### Nuclear spin qubits\n",
    "\n",
    "The details are laid out in Hannes' thesis. However, in essence, for the Nitrogen nuclear spin, the quantisation axis is the same as for the NV, leading to an interaction term of the form $\\mathcal{H} = -A_N S_z I_z.$ This is similar for Carbon 13 spins, however in this case the quantisation axis is actually determined by the hyperfine interaction with the NV electron spin. This means that when the NV is in the $m_s = 0$ state, the nuclear spin axis is quantised only by the external magnetic field.\n",
    "\n",
    "The hyperfine interaction strength for these nuclear spin qubits ranges from 10s of kHz for $^{13}$C to 100s of MHz for the neighboring sites to the vacancy.\n",
    "\n",
    "\n",
    "### Nuclear spin intialisation\n",
    "\n",
    "Prior to every experiment the 14N nuclear spin is initialized by measurement with a fidelity of FN = 0.94(3) in mI = −1 [17]. L. Robledo et al., High-fidelity projective read-out of a solid-state spin quantum register. Nature 477, 574-578 (2011).\n",
    "\n",
    "## Electron spin - electron spin coupling \n",
    "\n",
    "**High-fidelity spin entanglement using optimal control (Wrachtrup, 2014)**\n",
    "-\tSingle qubit fidelity 0.99\n",
    "-\tEntangling gate fidelity 0.82, limited by electron spin decoherence\n",
    "-\t2 NVs separated by 25 nm. Artificially implanted\n",
    "-\tThe dephasing times of NV1 are $T_{2}^\\ast$ =  27.8 $\\mu s$, $T_{2}$ = 150 $\\mu s$, for NV2 are $T_{2}^\\ast$ =  22.6 $\\mu s$, $T_{2}$ = 514 $\\mu s$.\n",
    "-\tCompare to ms for natural NVs (e.g. 14 ms for heralded entanglement paper)\n",
    "\n",
    "### Combining entanglement generation with the nuclear spin register\n",
    "\n",
    "**Towards quantum networks of single spins: analysis of a quantum memory with an optical interface in diamond (Hanson, Taminiau 2015)**\n",
    "> “A major challenge for realizing quantum memories based on nuclear spins is to overcome the dephasing that is introduced while using the electron spin as an optical interface to generate spin-photon entanglement.“\n",
    "\n",
    "-\tTheoretical analysis of problem for different coupling strengths.\n",
    "-\tThese calculations predict that 25 repetitions of the entanglement protocol will yield a fidelity of 90.3% for the lowest coupling strength found in Fig. 2, which would already provide significant speed advantages in establishing entanglement links. \n",
    "\n",
    "\n",
    "**Unconditional quantum teleportation between distant solid-state quantum bits (Hanson, Science 2014)**\n",
    "- This paper used 14N as a memory qubit.\n",
    "- The source state is prepared after establishing remote entanglement, thus avoiding possible dephasing of the source state by repeated optical excitation of the nearby electron (25, 26) during entanglement generation. No good for repeater etc?\n",
    "-\tFidelity with Bell state 0.89. BSM fidelity 0.93.\n",
    "-\tDynamical decoupling of nuclear qubit for 300 mus. Fidelity 0.96.\n",
    "-\tFinal note (!) Our teleportation scheme is both unconditional and scalable to large distances, as it can mitigate photon loss by heralding and purification of the distributed entangled state (4). Our current capabilities could be supplemented with quantum memories that are robust against optical excitation of the electrons, enabling remote entanglement purification (4, 32) and the connection of multiple nodes into the network. A promising route is the use of weakly coupled nuclear spins (33–35) on which multi-qubit quantum control has very recently been demonstrated (36). For such nuclear spins, coherence times of >1 s under optical excitation have been reported (37), while the incorporation of NV centers into optical cavities may enable remote entanglement generation on millisecond time scales (38). \n",
    "\n"
   ]
  },
  {
   "cell_type": "markdown",
   "metadata": {},
   "source": [
    "## Manufacture\n",
    "\n",
    "The centre may be found as an ‘in grown’ product of the chemical vapour deposition (CVD) diamond synthesis process or as a product of radiation damage and annealing or ion implantation and annealing in bulk and nanocrystalline diamond. \n",
    "\n",
    "The advent of CVD synthesis techniques provided the means to control the size and quality of the diamond crystal. The employment of nitrogen ion implantation in combination with an annealing step has facilitated the (non-deterministic) creation of single NV centres with nanoscale accuracy. Apart from bulk diamond, single NV centres have been fabricated in nanodiamonds as small as ∼5 nm in diameter. Consequently, there exists a diverse range of crystal environments in which the NV centre can be formed and their effects on the centre investigated. Indeed, the advances in spectroscopy and material science have provided a suite of tools to study the NV centre and develop its applications.\n",
    "\n",
    "\n",
    "## Ensemble challenges\n",
    "\n",
    "The focus on individual NV− centres stems from the large inhomogeneous strain broadening of the optical ZPL and significant spin cross-relaxation effects present in high density ensembles. These ensemble effects prevent the resolution of the NV− low temperature optical ZPL fine structure and broaden ODMR lines, thereby reducing the visibility of many of the centre’s properties.\n",
    "\n",
    "## Outstanding issues\n",
    "\n",
    "Key ongoing issues concerning the NV− centre include:\n",
    "- Details of the non-radiative decay from the optically excited electronic state to the ground electronic state that enables optical preparation and readout of the centre’s electronic spin. \n",
    "- Anomalous aspects of the centre’s vibronic structure.\n",
    "- The Jahn-Teller effect in the centre’s optical transition.\n",
    "- Temperature variations of the centre’s properties.\n",
    "\n",
    "Other important aspects of the NV centre that are not well understood are:\n",
    "- Factors that govern the relative charge state concentrations.\n",
    "- The mechanism of photoconversion between the charge states and the associated spectral diffusion of the NV− optical transition."
   ]
  }
 ],
 "metadata": {
  "kernelspec": {
   "display_name": "Python 3",
   "language": "python",
   "name": "python3"
  },
  "language_info": {
   "codemirror_mode": {
    "name": "ipython",
    "version": 3
   },
   "file_extension": ".py",
   "mimetype": "text/x-python",
   "name": "python",
   "nbconvert_exporter": "python",
   "pygments_lexer": "ipython3",
   "version": "3.5.1"
  }
 },
 "nbformat": 4,
 "nbformat_minor": 0
}
